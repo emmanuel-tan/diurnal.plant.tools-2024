{
  "nbformat": 4,
  "nbformat_minor": 0,
  "metadata": {
    "colab": {
      "provenance": [],
      "collapsed_sections": [
        "09vCHInkcoxl",
        "JcUke63GP2u4"
      ],
      "toc_visible": true
    },
    "kernelspec": {
      "name": "python3",
      "display_name": "Python 3"
    },
    "language_info": {
      "name": "python"
    }
  },
  "cells": [
    {
      "cell_type": "markdown",
      "source": [
        "# Code to replicate analysis\n",
        "## 1. Setup\n",
        "1. Mounting Google Drive & setting paths\n",
        "2. Installing necessary packages\n",
        "3. Downloading files for analysis\n",
        "\n",
        "\n",
        "## 2. Analysis and plots\n",
        "1. Diurnal gene expression (JTK_Cycle)"
      ],
      "metadata": {
        "id": "0VKUSEZlZn0a"
      }
    },
    {
      "cell_type": "markdown",
      "source": [
        "# 1. Setup"
      ],
      "metadata": {
        "id": "cwD8NUrAboed"
      }
    },
    {
      "cell_type": "markdown",
      "source": [
        "## 1.1 Mounting Google Drive & setting paths"
      ],
      "metadata": {
        "id": "N0Fp2_Q3bt3b"
      }
    },
    {
      "cell_type": "code",
      "execution_count": 1,
      "metadata": {
        "id": "clbSlaT8Yqsb",
        "colab": {
          "base_uri": "https://localhost:8080/"
        },
        "outputId": "14e0b900-da9c-4582-b73c-d35d84900d5f"
      },
      "outputs": [
        {
          "output_type": "stream",
          "name": "stdout",
          "text": [
            "Mounted at /content/drive\n"
          ]
        }
      ],
      "source": [
        "from google.colab import drive\n",
        "drive.mount('/content/drive')\n",
        "\n",
        "!rm -rf /content/sample_data\n",
        "\n",
        "drive_path = '/content/drive/My Drive/' # amend this line to link to the desired path for this project"
      ]
    },
    {
      "cell_type": "markdown",
      "source": [
        "## 1.2 Installing necessary packages"
      ],
      "metadata": {
        "id": "09vCHInkcoxl"
      }
    },
    {
      "cell_type": "code",
      "source": [
        "import seaborn as sns\n",
        "import matplotlib as mpl\n",
        "import matplotlib.pyplot as plt\n",
        "import pandas as pd\n",
        "from sklearn.preprocessing import StandardScaler\n",
        "from sklearn.decomposition import PCA\n",
        "import numpy as np\n",
        "%load_ext rpy2.ipython\n"
      ],
      "metadata": {
        "id": "LCnxWNIgcogt"
      },
      "execution_count": 2,
      "outputs": []
    },
    {
      "cell_type": "markdown",
      "source": [
        "## 1.3 Downloading files"
      ],
      "metadata": {
        "id": "U_kD2qEzc2ax"
      }
    },
    {
      "cell_type": "code",
      "source": [
        "# Downloads necessary files to perform analyses (only need to be done once)\n",
        "# https://github.com/emmanuel-tan/diurnal.plant.tools-2024/raw/main/NewSpeciesExpression.zip\n",
        "!wget \"https://github.com/emmanuel-tan/diurnal.plant.tools-2024/raw/main/NewSpeciesExpression.zip\" -O diurnal_expression.zip\n",
        "\n",
        "dir_path = drive_path + 'diurnal/'\n",
        "dir_path = dir_path.replace(' ', '\\ ')\n",
        "!mkdir $dir_path\n",
        "!unzip diurnal_expression.zip -d $dir_path\n",
        "dir_path = dir_path.replace('\\ ', ' ')\n",
        "expmat_path = dir_path + \"NewSpeciesExpression/\"\n",
        "!rm \"diurnal_expression.zip\""
      ],
      "metadata": {
        "id": "PucC3mPIc3bx",
        "colab": {
          "base_uri": "https://localhost:8080/"
        },
        "outputId": "91ad06b5-756b-4427-ef08-a600f3a70989"
      },
      "execution_count": 33,
      "outputs": [
        {
          "output_type": "stream",
          "name": "stdout",
          "text": [
            "--2024-04-29 23:52:29--  https://github.com/emmanuel-tan/diurnal.plant.tools-2024/raw/main/NewSpeciesExpression.zip\n",
            "Resolving github.com (github.com)... 140.82.113.3\n",
            "Connecting to github.com (github.com)|140.82.113.3|:443... connected.\n",
            "HTTP request sent, awaiting response... 302 Found\n",
            "Location: https://raw.githubusercontent.com/emmanuel-tan/diurnal.plant.tools-2024/main/NewSpeciesExpression.zip [following]\n",
            "--2024-04-29 23:52:29--  https://raw.githubusercontent.com/emmanuel-tan/diurnal.plant.tools-2024/main/NewSpeciesExpression.zip\n",
            "Resolving raw.githubusercontent.com (raw.githubusercontent.com)... 185.199.111.133, 185.199.108.133, 185.199.110.133, ...\n",
            "Connecting to raw.githubusercontent.com (raw.githubusercontent.com)|185.199.111.133|:443... connected.\n",
            "HTTP request sent, awaiting response... 200 OK\n",
            "Length: 9506216 (9.1M) [application/zip]\n",
            "Saving to: ‘diurnal_expression.zip’\n",
            "\n",
            "diurnal_expression. 100%[===================>]   9.07M  37.2MB/s    in 0.2s    \n",
            "\n",
            "2024-04-29 23:52:30 (37.2 MB/s) - ‘diurnal_expression.zip’ saved [9506216/9506216]\n",
            "\n",
            "mkdir: cannot create directory ‘/content/drive/My Drive/diurnal/’: File exists\n",
            "Archive:  diurnal_expression.zip\n",
            "replace /content/drive/My Drive/diurnal/NewSpeciesExpression/.DS_Store? [y]es, [n]o, [A]ll, [N]one, [r]ename: "
          ]
        }
      ]
    },
    {
      "cell_type": "markdown",
      "source": [
        "# 2. Analysis and plots"
      ],
      "metadata": {
        "id": "FX242eych9tY"
      }
    },
    {
      "cell_type": "markdown",
      "source": [
        "## 2.1 Diurnal gene expression (JTK_Cycle)"
      ],
      "metadata": {
        "id": "KAHXedKriBQb"
      }
    },
    {
      "cell_type": "code",
      "source": [
        "jtk_dir = dir_path + \"JTK/\"\n",
        "!mkdir $jtk_dir\n",
        "!cd jtk_dir\n",
        "!wget -P $jtk_dir \"https://github.com/loubya/Mimulus_SWC_JTK_Cycle/raw/master/JTK_CYCLEv3.1.R\"\n",
        "%cd $jtk_dir"
      ],
      "metadata": {
        "id": "pBdtKYNagHJH",
        "colab": {
          "base_uri": "https://localhost:8080/"
        },
        "outputId": "90c15612-7519-4253-dcd1-a39c053d8056"
      },
      "execution_count": 4,
      "outputs": [
        {
          "output_type": "stream",
          "name": "stdout",
          "text": [
            "mkdir: cannot create directory ‘/content/drive/My’: Operation not supported\n",
            "mkdir: cannot create directory ‘Drive/diurnal/JTK/’: No such file or directory\n",
            "/bin/bash: line 1: cd: jtk_dir: No such file or directory\n",
            "--2024-04-29 23:39:44--  http://drive/diurnal/JTK/\n",
            "Resolving drive (drive)... failed: No address associated with hostname.\n",
            "wget: unable to resolve host address ‘drive’\n",
            "--2024-04-29 23:39:44--  https://github.com/loubya/Mimulus_SWC_JTK_Cycle/raw/master/JTK_CYCLEv3.1.R\n",
            "Resolving github.com (github.com)... 140.82.113.3\n",
            "Connecting to github.com (github.com)|140.82.113.3|:443... connected.\n",
            "HTTP request sent, awaiting response... 302 Found\n",
            "Location: https://raw.githubusercontent.com/loubya/Mimulus_SWC_JTK_Cycle/master/JTK_CYCLEv3.1.R [following]\n",
            "--2024-04-29 23:39:44--  https://raw.githubusercontent.com/loubya/Mimulus_SWC_JTK_Cycle/master/JTK_CYCLEv3.1.R\n",
            "Resolving raw.githubusercontent.com (raw.githubusercontent.com)... 185.199.108.133, 185.199.109.133, 185.199.110.133, ...\n",
            "Connecting to raw.githubusercontent.com (raw.githubusercontent.com)|185.199.108.133|:443... connected.\n",
            "HTTP request sent, awaiting response... 200 OK\n",
            "Length: 12650 (12K) [text/plain]\n",
            "/content/drive/My: Operation not supported\n",
            "/content/drive/My/JTK_CYCLEv3.1.R: No such file or directory\n",
            "\n",
            "Cannot write to ‘/content/drive/My/JTK_CYCLEv3.1.R’ (Success).\n",
            "/content/drive/My Drive/diurnal/JTK\n"
          ]
        }
      ]
    },
    {
      "cell_type": "code",
      "source": [
        "# import paths for R to use as variables (remove backslashes)\n",
        "jtk_dir_R = jtk_dir.replace(\"\\ \", \" \")\n",
        "dir_path_R = dir_path.replace(\"\\ \", \" \")\n",
        "expmat_path_R = expmat_path.replace(\"\\ \", \" \")"
      ],
      "metadata": {
        "id": "fwYSDlL8ok5c"
      },
      "execution_count": 5,
      "outputs": []
    },
    {
      "cell_type": "code",
      "source": [
        "%%R -i jtk_dir_R -i dir_path_R -i expmat_path_R"
      ],
      "metadata": {
        "colab": {
          "base_uri": "https://localhost:8080/"
        },
        "id": "pLKLnuGytG6M",
        "outputId": "9514bb3f-1c0b-4b0f-dbf0-b015002b0500"
      },
      "execution_count": 6,
      "outputs": [
        {
          "output_type": "stream",
          "name": "stdout",
          "text": [
            "NULL\n"
          ]
        }
      ]
    },
    {
      "cell_type": "markdown",
      "source": [
        "### 2.1.1 *Brassica rapa*"
      ],
      "metadata": {
        "id": "wi2CEe3CmtcR"
      }
    },
    {
      "cell_type": "code",
      "source": [
        "%%R\n",
        "source(\"JTK_CYCLEv3.1.R\")\n",
        "\n",
        "project <- \"BRA_JTK\"\n",
        "\n",
        "options(stringsAsFactors=FALSE)\n",
        "annot <- read.delim(paste(expmat_path_R, \"BRA_annot.txt\", sep=\"\"))\n",
        "data <- read.delim(paste(expmat_path_R, \"BRA_expmat.txt\", sep=\"\"))\n",
        "\n",
        "rownames(data) <- data[,1]\n",
        "data <- data[,-1]\n",
        "jtkdist(4, 2)\n",
        "\n",
        "periods <- 6:6\n",
        "jtk.init(periods,8)\n",
        "\n",
        "cat(\"JTK analysis started on\",date(),\"\\n\")\n",
        "flush.console()\n",
        "\n",
        "st <- system.time({\n",
        "  res <- apply(data,1,function(z) {\n",
        "    jtkx(z)\n",
        "    c(JTK.ADJP,JTK.PERIOD,JTK.LAG,JTK.AMP)\n",
        "  })\n",
        "  res <- as.data.frame(t(res))\n",
        "  bhq <- p.adjust(unlist(res[,1]),\"BH\")\n",
        "  res <- cbind(bhq,res)\n",
        "  colnames(res) <- c(\"BH.Q\",\"ADJ.P\",\"PER\",\"LAG\",\"AMP\")\n",
        "  results <- cbind(annot,res,data)\n",
        "  results <- results[order(res$ADJ.P,-res$AMP),]\n",
        "})\n",
        "print(st)\n",
        "\n",
        "save(results,file=paste(project,\"rda\",sep=\".\"))\n",
        "write.table(results,file=paste(project,\"txt\",sep=\".\"),row.names=F,col.names=T,quote=F,sep=\"\\t\")"
      ],
      "metadata": {
        "colab": {
          "base_uri": "https://localhost:8080/"
        },
        "id": "D4VUoAZwrBEI",
        "outputId": "e13e084d-6429-4f40-c245-f873e87327f2"
      },
      "execution_count": 7,
      "outputs": [
        {
          "output_type": "stream",
          "name": "stdout",
          "text": [
            "JTK analysis started on Mon Apr 29 23:39:46 2024 \n",
            "   user  system elapsed \n",
            " 27.454   0.025  27.861 \n"
          ]
        }
      ]
    },
    {
      "cell_type": "code",
      "source": [
        "# clean JTK output\n",
        "jtk_output_path = jtk_dir + \"BRA_JTK.txt\"\n",
        "jtk_output = pd.read_csv(jtk_output_path, sep='\\t')\n",
        "jtk_output = jtk_output.set_index('Probe')\n",
        "\n",
        "jtk_clean = jtk_output\n",
        "\n",
        "# get just expression data portion\n",
        "expmat = jtk_output.iloc[:,7:]\n",
        "\n",
        "# get NE genes\n",
        "NE_genes = []\n",
        "for gene, row, in expmat.iterrows():\n",
        "    if row.max() < 1: NE_genes.append(gene)\n",
        "\n",
        "# assign \"NE\" to ADJ.P and LAG column\n",
        "for gene, row in jtk_clean.iterrows():\n",
        "    if gene in NE_genes:\n",
        "        jtk_clean.at[gene, 'ADJ.P'] = \"NE\"\n",
        "        jtk_clean.at[gene, 'LAG'] = \"NE\"\n",
        "\n",
        "# remove unwanted columns\n",
        "unwanted_cols = ['BH.Q', 'PER', 'AMP']\n",
        "original_cols = jtk_clean.columns\n",
        "new_columns = [col for col in original_cols if col not in unwanted_cols]\n",
        "jtk_clean = jtk_clean[new_columns]\n",
        "\n",
        "# assign \"NR\" to ADJ.P and LAG column\n",
        "for gene, row in jtk_clean.iterrows():\n",
        "    if type(row['ADJ.P']) is float:\n",
        "        if row['ADJ.P'] > 0.05:\n",
        "            jtk_clean.at[gene, 'ADJ.P'] = \"NR\"\n",
        "            jtk_clean.at[gene, 'LAG'] = \"NR\"\n",
        "\n",
        "jtk_clean = jtk_clean.sort_index()\n",
        "\n",
        "# save file\n",
        "jtk_clean.to_csv(jtk_dir + \"BRA_JTK_clean.txt\", sep='\\t')"
      ],
      "metadata": {
        "id": "lgd2f2tu1rEV"
      },
      "execution_count": 8,
      "outputs": []
    },
    {
      "cell_type": "markdown",
      "source": [
        "### 2.1.2 *Hordeum vulagre*"
      ],
      "metadata": {
        "id": "EOJNwzqgznTK"
      }
    },
    {
      "cell_type": "code",
      "source": [
        "%%R\n",
        "source(\"JTK_CYCLEv3.1.R\")\n",
        "\n",
        "project <- \"HVU_JTK\"\n",
        "\n",
        "options(stringsAsFactors=FALSE)\n",
        "annot <- read.delim(paste(expmat_path_R, \"HVU_annot.txt\", sep=\"\"))\n",
        "data <- read.delim(paste(expmat_path_R, \"HVU_expmat.txt\", sep=\"\"))\n",
        "\n",
        "rownames(data) <- data[,1]\n",
        "data <- data[,-1]\n",
        "jtkdist(7, 2)\n",
        "\n",
        "periods <- 6:6\n",
        "jtk.init(periods,4)\n",
        "\n",
        "cat(\"JTK analysis started on\",date(),\"\\n\")\n",
        "flush.console()\n",
        "\n",
        "st <- system.time({\n",
        "  res <- apply(data,1,function(z) {\n",
        "    jtkx(z)\n",
        "    c(JTK.ADJP,JTK.PERIOD,JTK.LAG,JTK.AMP)\n",
        "  })\n",
        "  res <- as.data.frame(t(res))\n",
        "  bhq <- p.adjust(unlist(res[,1]),\"BH\")\n",
        "  res <- cbind(bhq,res)\n",
        "  colnames(res) <- c(\"BH.Q\",\"ADJ.P\",\"PER\",\"LAG\",\"AMP\")\n",
        "  results <- cbind(annot,res,data)\n",
        "  results <- results[order(res$ADJ.P,-res$AMP),]\n",
        "})\n",
        "print(st)\n",
        "\n",
        "save(results,file=paste(project,\"rda\",sep=\".\"))\n",
        "write.table(results,file=paste(project,\"txt\",sep=\".\"),row.names=F,col.names=T,quote=F,sep=\"\\t\")\n",
        "\n"
      ],
      "metadata": {
        "id": "ezuoDtwVjThY",
        "colab": {
          "base_uri": "https://localhost:8080/"
        },
        "outputId": "23eb6b51-6944-4c29-8867-bbf5aa5610ef"
      },
      "execution_count": 9,
      "outputs": [
        {
          "output_type": "stream",
          "name": "stdout",
          "text": [
            "JTK analysis started on Mon Apr 29 23:40:44 2024 \n",
            "   user  system elapsed \n",
            " 32.891   0.061  33.599 \n"
          ]
        }
      ]
    },
    {
      "cell_type": "code",
      "source": [
        "# clean JTK output\n",
        "jtk_output_path = jtk_dir + \"HVU_JTK.txt\"\n",
        "jtk_output = pd.read_csv(jtk_output_path, sep='\\t')\n",
        "jtk_output = jtk_output.set_index('Probe')\n",
        "\n",
        "jtk_clean = jtk_output\n",
        "\n",
        "# get just expression data portion\n",
        "expmat = jtk_output.iloc[:,7:]\n",
        "\n",
        "# get NE genes\n",
        "NE_genes = []\n",
        "for gene, row, in expmat.iterrows():\n",
        "    if row.max() < 1: NE_genes.append(gene)\n",
        "\n",
        "# assign \"NE\" to ADJ.P and LAG column\n",
        "for gene, row in jtk_clean.iterrows():\n",
        "    if gene in NE_genes:\n",
        "        jtk_clean.at[gene, 'ADJ.P'] = \"NE\"\n",
        "        jtk_clean.at[gene, 'LAG'] = \"NE\"\n",
        "\n",
        "# remove unwanted columns\n",
        "unwanted_cols = ['BH.Q', 'PER', 'AMP']\n",
        "original_cols = jtk_clean.columns\n",
        "new_columns = [col for col in original_cols if col not in unwanted_cols]\n",
        "jtk_clean = jtk_clean[new_columns]\n",
        "\n",
        "# assign \"NR\" to ADJ.P and LAG column\n",
        "for gene, row in jtk_clean.iterrows():\n",
        "    if type(row['ADJ.P']) is float:\n",
        "        if row['ADJ.P'] > 0.05:\n",
        "            jtk_clean.at[gene, 'ADJ.P'] = \"NR\"\n",
        "            jtk_clean.at[gene, 'LAG'] = \"NR\"\n",
        "\n",
        "jtk_clean = jtk_clean.sort_index()\n",
        "jtk_clean.to_csv(jtk_dir + \"HVU_JTK_clean.txt\", sep='\\t')"
      ],
      "metadata": {
        "id": "G9jGTXDj4VPK"
      },
      "execution_count": 10,
      "outputs": []
    },
    {
      "cell_type": "markdown",
      "source": [
        "### 2.1.3 *Marchantia polymorpha*"
      ],
      "metadata": {
        "id": "1IXWIhLIzsF_"
      }
    },
    {
      "cell_type": "code",
      "source": [
        "%%R\n",
        "source(\"JTK_CYCLEv3.1.R\")\n",
        "\n",
        "project <- \"MPO_JTK\"\n",
        "\n",
        "options(stringsAsFactors=FALSE)\n",
        "annot <- read.delim(paste(expmat_path_R, \"MPO_annot.txt\", sep=\"\"))\n",
        "data <- read.delim(paste(expmat_path_R, \"MPO_expmat.txt\", sep=\"\"))\n",
        "\n",
        "rownames(data) <- data[,1]\n",
        "data <- data[,-1]\n",
        "jtkdist(6, 3)\n",
        "\n",
        "periods <- 6:6\n",
        "jtk.init(periods,4)\n",
        "\n",
        "cat(\"JTK analysis started on\",date(),\"\\n\")\n",
        "flush.console()\n",
        "\n",
        "st <- system.time({\n",
        "  res <- apply(data,1,function(z) {\n",
        "    jtkx(z)\n",
        "    c(JTK.ADJP,JTK.PERIOD,JTK.LAG,JTK.AMP)\n",
        "  })\n",
        "  res <- as.data.frame(t(res))\n",
        "  bhq <- p.adjust(unlist(res[,1]),\"BH\")\n",
        "  res <- cbind(bhq,res)\n",
        "  colnames(res) <- c(\"BH.Q\",\"ADJ.P\",\"PER\",\"LAG\",\"AMP\")\n",
        "  results <- cbind(annot,res,data)\n",
        "  results <- results[order(res$ADJ.P,-res$AMP),]\n",
        "})\n",
        "print(st)\n",
        "\n",
        "save(results,file=paste(project,\"rda\",sep=\".\"))\n",
        "write.table(results,file=paste(project,\"txt\",sep=\".\"),row.names=F,col.names=T,quote=F,sep=\"\\t\")"
      ],
      "metadata": {
        "colab": {
          "base_uri": "https://localhost:8080/"
        },
        "id": "s9Z1c7xdzwFL",
        "outputId": "f9494d52-3ca5-44ac-91ae-36de47ed6688"
      },
      "execution_count": 11,
      "outputs": [
        {
          "output_type": "stream",
          "name": "stdout",
          "text": [
            "JTK analysis started on Mon Apr 29 23:41:54 2024 \n",
            "   user  system elapsed \n",
            "  9.355   0.034   9.812 \n"
          ]
        }
      ]
    },
    {
      "cell_type": "code",
      "source": [
        "# clean JTK output\n",
        "jtk_output_path = jtk_dir + \"MPO_JTK.txt\"\n",
        "jtk_output = pd.read_csv(jtk_output_path, sep='\\t')\n",
        "jtk_output = jtk_output.set_index('Probe')\n",
        "\n",
        "jtk_clean = jtk_output\n",
        "\n",
        "# get just expression data portion\n",
        "expmat = jtk_output.iloc[:,7:]\n",
        "\n",
        "# get NE genes\n",
        "NE_genes = []\n",
        "for gene, row, in expmat.iterrows():\n",
        "    if row.max() < 1: NE_genes.append(gene)\n",
        "\n",
        "# assign \"NE\" to ADJ.P and LAG column\n",
        "for gene, row in jtk_clean.iterrows():\n",
        "    if gene in NE_genes:\n",
        "        jtk_clean.at[gene, 'ADJ.P'] = \"NE\"\n",
        "        jtk_clean.at[gene, 'LAG'] = \"NE\"\n",
        "\n",
        "# remove unwanted columns\n",
        "unwanted_cols = ['BH.Q', 'PER', 'AMP']\n",
        "original_cols = jtk_clean.columns\n",
        "new_columns = [col for col in original_cols if col not in unwanted_cols]\n",
        "jtk_clean = jtk_clean[new_columns]\n",
        "\n",
        "# assign \"NR\" to ADJ.P and LAG column\n",
        "for gene, row in jtk_clean.iterrows():\n",
        "    if type(row['ADJ.P']) is float:\n",
        "        if row['ADJ.P'] > 0.05:\n",
        "            jtk_clean.at[gene, 'ADJ.P'] = \"NR\"\n",
        "            jtk_clean.at[gene, 'LAG'] = \"NR\"\n",
        "\n",
        "jtk_clean = jtk_clean.sort_index()\n",
        "\n",
        "# adjust lag by 2.0\n",
        "def adjustLag(lag):\n",
        "    if str(lag) == \"NE\":\n",
        "        new_val = \"NE\"\n",
        "    elif str(lag) == \"NR\":\n",
        "        new_val = \"NR\"\n",
        "    else:\n",
        "        new_val = str(float(lag) + 2.0)\n",
        "        if float(new_val) >= 24:\n",
        "            new_val = str(float(new_val)-24)\n",
        "    return new_val\n",
        "\n",
        "jtk_clean['LAG'] = jtk_clean['LAG'].apply(adjustLag).to_list()\n",
        "\n",
        "# save as supplementary file\n",
        "jtk_clean.to_csv(jtk_dir + \"MPO_JTK_clean.txt\", sep='\\t')"
      ],
      "metadata": {
        "id": "NLqDui0o4oLS"
      },
      "execution_count": 12,
      "outputs": []
    },
    {
      "cell_type": "markdown",
      "source": [
        "### 2.1.4 *Sorghum bicolor*"
      ],
      "metadata": {
        "id": "mjnsDi2Tzwri"
      }
    },
    {
      "cell_type": "code",
      "source": [
        "%%R\n",
        "source(\"JTK_CYCLEv3.1.R\")\n",
        "\n",
        "project <- \"SBI_JTK\"\n",
        "\n",
        "options(stringsAsFactors=FALSE)\n",
        "annot <- read.delim(paste(expmat_path_R, \"SBI_annot.txt\", sep=\"\"))\n",
        "data <- read.delim(paste(expmat_path_R, \"SBI_expmat.txt\", sep=\"\"))\n",
        "\n",
        "rownames(data) <- data[,1]\n",
        "data <- data[,-1]\n",
        "jtkdist(8, 3)\n",
        "\n",
        "periods <- 8:8\n",
        "jtk.init(periods,3)\n",
        "\n",
        "cat(\"JTK analysis started on\",date(),\"\\n\")\n",
        "flush.console()\n",
        "\n",
        "st <- system.time({\n",
        "  res <- apply(data,1,function(z) {\n",
        "    jtkx(z)\n",
        "    c(JTK.ADJP,JTK.PERIOD,JTK.LAG,JTK.AMP)\n",
        "  })\n",
        "  res <- as.data.frame(t(res))\n",
        "  bhq <- p.adjust(unlist(res[,1]),\"BH\")\n",
        "  res <- cbind(bhq,res)\n",
        "  colnames(res) <- c(\"BH.Q\",\"ADJ.P\",\"PER\",\"LAG\",\"AMP\")\n",
        "  results <- cbind(annot,res,data)\n",
        "  results <- results[order(res$ADJ.P,-res$AMP),]\n",
        "})\n",
        "print(st)\n",
        "\n",
        "save(results,file=paste(project,\"rda\",sep=\".\"))\n",
        "write.table(results,file=paste(project,\"txt\",sep=\".\"),row.names=F,col.names=T,quote=F,sep=\"\\t\")"
      ],
      "metadata": {
        "colab": {
          "base_uri": "https://localhost:8080/"
        },
        "id": "TqjzwhuzzyYQ",
        "outputId": "3afe9c84-ea82-4a10-889f-4a511f2439eb"
      },
      "execution_count": 13,
      "outputs": [
        {
          "output_type": "stream",
          "name": "stdout",
          "text": [
            "JTK analysis started on Mon Apr 29 23:42:13 2024 \n",
            "   user  system elapsed \n",
            " 35.715   0.079  38.150 \n"
          ]
        }
      ]
    },
    {
      "cell_type": "code",
      "source": [
        "# clean JTK output\n",
        "jtk_output_path = jtk_dir + \"SBI_JTK.txt\"\n",
        "jtk_output = pd.read_csv(jtk_output_path, sep='\\t')\n",
        "jtk_output = jtk_output.set_index('Probe')\n",
        "\n",
        "jtk_clean = jtk_output\n",
        "\n",
        "# get just expression data portion\n",
        "expmat = jtk_output.iloc[:,7:]\n",
        "\n",
        "# get NE genes\n",
        "NE_genes = []\n",
        "for gene, row, in expmat.iterrows():\n",
        "    if row.max() < 1: NE_genes.append(gene)\n",
        "\n",
        "# assign \"NE\" to ADJ.P and LAG column\n",
        "for gene, row in jtk_clean.iterrows():\n",
        "    if gene in NE_genes:\n",
        "        jtk_clean.at[gene, 'ADJ.P'] = \"NE\"\n",
        "        jtk_clean.at[gene, 'LAG'] = \"NE\"\n",
        "\n",
        "# remove unwanted columns\n",
        "unwanted_cols = ['BH.Q', 'PER', 'AMP']\n",
        "original_cols = jtk_clean.columns\n",
        "new_columns = [col for col in original_cols if col not in unwanted_cols]\n",
        "jtk_clean = jtk_clean[new_columns]\n",
        "\n",
        "# assign \"NR\" to ADJ.P and LAG column\n",
        "for gene, row in jtk_clean.iterrows():\n",
        "    if type(row['ADJ.P']) is float:\n",
        "        if row['ADJ.P'] > 0.05:\n",
        "            jtk_clean.at[gene, 'ADJ.P'] = \"NR\"\n",
        "            jtk_clean.at[gene, 'LAG'] = \"NR\"\n",
        "\n",
        "jtk_clean = jtk_clean.sort_index()\n",
        "\n",
        "# adjust lag by 3.0\n",
        "def adjustLag(lag):\n",
        "    if str(lag) == \"NE\":\n",
        "        new_val = \"NE\"\n",
        "    elif str(lag) == \"NR\":\n",
        "        new_val = \"NR\"\n",
        "    else:\n",
        "        new_val = str(float(lag) + 3.0)\n",
        "        if float(new_val) >= 24:\n",
        "            new_val = str(float(new_val)-24)\n",
        "    return new_val\n",
        "\n",
        "jtk_clean['LAG'] = jtk_clean['LAG'].apply(adjustLag).to_list()\n",
        "\n",
        "# save as supplementary file\n",
        "jtk_clean.to_csv(jtk_dir + \"SBI_JTK_clean.txt\", sep='\\t')"
      ],
      "metadata": {
        "id": "4A00YY1I5UJn"
      },
      "execution_count": 14,
      "outputs": []
    },
    {
      "cell_type": "markdown",
      "source": [
        "### 2.1.5 *Setaria italica*"
      ],
      "metadata": {
        "id": "6TsOa91mzzBU"
      }
    },
    {
      "cell_type": "code",
      "source": [
        "%%R\n",
        "source(\"JTK_CYCLEv3.1.R\")\n",
        "\n",
        "project <- \"SIT_JTK\"\n",
        "\n",
        "options(stringsAsFactors=FALSE)\n",
        "annot <- read.delim(paste(expmat_path_R, \"SIT_annot.txt\", sep=\"\"))\n",
        "data <- read.delim(paste(expmat_path_R, \"SIT_expmat.txt\", sep=\"\"))\n",
        "\n",
        "rownames(data) <- data[,1]\n",
        "data <- data[,-1]\n",
        "jtkdist(8, 3)\n",
        "\n",
        "periods <- 8:8\n",
        "jtk.init(periods,3)\n",
        "\n",
        "cat(\"JTK analysis started on\",date(),\"\\n\")\n",
        "flush.console()\n",
        "\n",
        "st <- system.time({\n",
        "  res <- apply(data,1,function(z) {\n",
        "    jtkx(z)\n",
        "    c(JTK.ADJP,JTK.PERIOD,JTK.LAG,JTK.AMP)\n",
        "  })\n",
        "  res <- as.data.frame(t(res))\n",
        "  bhq <- p.adjust(unlist(res[,1]),\"BH\")\n",
        "  res <- cbind(bhq,res)\n",
        "  colnames(res) <- c(\"BH.Q\",\"ADJ.P\",\"PER\",\"LAG\",\"AMP\")\n",
        "  results <- cbind(annot,res,data)\n",
        "  results <- results[order(res$ADJ.P,-res$AMP),]\n",
        "})\n",
        "print(st)\n",
        "\n",
        "save(results,file=paste(project,\"rda\",sep=\".\"))\n",
        "write.table(results,file=paste(project,\"txt\",sep=\".\"),row.names=F,col.names=T,quote=F,sep=\"\\t\")"
      ],
      "metadata": {
        "colab": {
          "base_uri": "https://localhost:8080/"
        },
        "id": "NPC3WBKuz0ku",
        "outputId": "37eda218-56f3-460b-9e2e-64ddc800bb5d"
      },
      "execution_count": 15,
      "outputs": [
        {
          "output_type": "stream",
          "name": "stdout",
          "text": [
            "JTK analysis started on Mon Apr 29 23:43:16 2024 \n",
            "   user  system elapsed \n",
            " 38.496   0.052  39.716 \n"
          ]
        }
      ]
    },
    {
      "cell_type": "code",
      "source": [
        "# clean JTK output\n",
        "jtk_output_path = jtk_dir + \"SIT_JTK.txt\"\n",
        "jtk_output = pd.read_csv(jtk_output_path, sep='\\t')\n",
        "jtk_output = jtk_output.set_index('Probe')\n",
        "\n",
        "jtk_clean = jtk_output\n",
        "\n",
        "# get just expression data portion\n",
        "expmat = jtk_output.iloc[:,7:]\n",
        "\n",
        "# get NE genes\n",
        "NE_genes = []\n",
        "for gene, row, in expmat.iterrows():\n",
        "    if row.max() < 1: NE_genes.append(gene)\n",
        "\n",
        "# assign \"NE\" to ADJ.P and LAG column\n",
        "for gene, row in jtk_clean.iterrows():\n",
        "    if gene in NE_genes:\n",
        "        jtk_clean.at[gene, 'ADJ.P'] = \"NE\"\n",
        "        jtk_clean.at[gene, 'LAG'] = \"NE\"\n",
        "\n",
        "# remove unwanted columns\n",
        "unwanted_cols = ['BH.Q', 'PER', 'AMP']\n",
        "original_cols = jtk_clean.columns\n",
        "new_columns = [col for col in original_cols if col not in unwanted_cols]\n",
        "jtk_clean = jtk_clean[new_columns]\n",
        "\n",
        "# assign \"NR\" to ADJ.P and LAG column\n",
        "for gene, row in jtk_clean.iterrows():\n",
        "    if type(row['ADJ.P']) is float:\n",
        "        if row['ADJ.P'] > 0.05:\n",
        "            jtk_clean.at[gene, 'ADJ.P'] = \"NR\"\n",
        "            jtk_clean.at[gene, 'LAG'] = \"NR\"\n",
        "\n",
        "jtk_clean = jtk_clean.sort_index()\n",
        "\n",
        "# adjust lag by 3.0\n",
        "def adjustLag(lag):\n",
        "    if str(lag) == \"NE\":\n",
        "        new_val = \"NE\"\n",
        "    elif str(lag) == \"NR\":\n",
        "        new_val = \"NR\"\n",
        "    else:\n",
        "        new_val = str(float(lag) + 3.0)\n",
        "        if float(new_val) >= 24:\n",
        "            new_val = str(float(new_val)-24)\n",
        "    return new_val\n",
        "\n",
        "jtk_clean['LAG'] = jtk_clean['LAG'].apply(adjustLag).to_list()\n",
        "\n",
        "# save as supplementary file\n",
        "jtk_clean.to_csv(jtk_dir + \"SIT_JTK_clean.txt\", sep='\\t')"
      ],
      "metadata": {
        "id": "9_DC8M1H5f-E"
      },
      "execution_count": 16,
      "outputs": []
    }
  ]
}